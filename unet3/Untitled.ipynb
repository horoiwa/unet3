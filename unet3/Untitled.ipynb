{
 "cells": [
  {
   "cell_type": "code",
   "execution_count": 20,
   "metadata": {},
   "outputs": [],
   "source": [
    "import os\n",
    "from generator import ImageMaskGenerator\n",
    "\n",
    "from config import (\n",
    "    BATCH_SIZE, DATA_GEN_ARGS, IMAGE_COLORMODE, MASK_COLORMODE,\n",
    "    PCA_COLOR_RANGE, TARGET_SIZE, SAMPLE_SIZE)"
   ]
  },
  {
   "cell_type": "code",
   "execution_count": 21,
   "metadata": {},
   "outputs": [],
   "source": [
    "dataset_dir = '../dataset'\n",
    "customGen = ImageMaskGenerator(batch_size=2,\n",
    "                               dataset_dir=dataset_dir,\n",
    "                               folder='train',\n",
    "                               aug_dict=DATA_GEN_ARGS,\n",
    "                               image_colormode=IMAGE_COLORMODE,\n",
    "                               mask_colormode=MASK_COLORMODE,\n",
    "                               target_size=TARGET_SIZE,\n",
    "                               sample_size=SAMPLE_SIZE,\n",
    "                               shuffle=True)"
   ]
  },
  {
   "cell_type": "code",
   "execution_count": 22,
   "metadata": {},
   "outputs": [
    {
     "name": "stdout",
     "output_type": "stream",
     "text": [
      "Found 30 images belonging to 1 classes.\n",
      "Found 30 images belonging to 1 classes.\n"
     ]
    }
   ],
   "source": [
    "images, masks = customGen.__next__()"
   ]
  },
  {
   "cell_type": "code",
   "execution_count": 23,
   "metadata": {},
   "outputs": [],
   "source": [
    "from PIL import Image\n",
    "import matplotlib.pyplot as plt\n",
    "import numpy as np\n",
    "\n",
    "def show(image):\n",
    "    image = Image.fromarray(image.reshape(256,256)*255)\n",
    "    image = image.convert('RGB')\n",
    "    return image\n",
    "\n",
    "def show2(image):\n",
    "    image = Image.fromarray(np.uint8(image))\n",
    "    return image"
   ]
  },
  {
   "cell_type": "code",
   "execution_count": 25,
   "metadata": {},
   "outputs": [
    {
     "data": {
      "image/png": "[encoded data removed]",
      "text/plain": [
       "<PIL.Image.Image image mode=RGB size=256x256 at 0x2704ABBD390>"
      ]
     },
     "execution_count": 25,
     "metadata": {},
     "output_type": "execute_result"
    }
   ],
   "source": [
    "mask = masks[0]\n",
    "show2(mask*255)"
   ]
  },
  {
   "cell_type": "code",
   "execution_count": 16,
   "metadata": {},
   "outputs": [],
   "source": [
    "def adjust_mask(mask):\n",
    "    if mask.shape[2] == 1:\n",
    "        mask[mask > 0.5] = 1\n",
    "        mask[mask < 0.5] = 0\n",
    "    elif mask.shape[2] == 3:\n",
    "        r = mask[:, :, 0]\n",
    "        r[ r > 0.5] = 1\n",
    "        r[ r < 0.5] = 0\n",
    "        g = mask[:, :, 1]\n",
    "        g[ g > 0.5] = 1\n",
    "        g[ g < 0.5] = 0\n",
    "        b = mask[:, :, 2]\n",
    "        b[ b > 0.5] = 1\n",
    "        b[ b < 0.5] = 0\n",
    "        \n",
    "    return mask\n",
    "\n",
    "mask2 = adjust_mask(mask)"
   ]
  },
  {
   "cell_type": "code",
   "execution_count": 19,
   "metadata": {},
   "outputs": [
    {
     "data": {
      "image/png": "[encoded data removed]",
      "text/plain": [
       "<PIL.Image.Image image mode=RGB size=256x256 at 0x2704ABE3240>"
      ]
     },
     "execution_count": 19,
     "metadata": {},
     "output_type": "execute_result"
    }
   ],
   "source": [
    "show2(mask2*255)"
   ]
  },
  {
   "cell_type": "code",
   "execution_count": null,
   "metadata": {},
   "outputs": [],
   "source": []
  },
  {
   "cell_type": "code",
   "execution_count": 63,
   "metadata": {},
   "outputs": [],
   "source": [
    "def pca_color_augmentation_L(image_array_input):\n",
    "    \"\"\"\n",
    "        RGBカラー画像限定\n",
    "        コピぺ：https://qiita.com/koshian2/items/78de8ccd09dd2998ddfc\n",
    "    \"\"\"\n",
    "\n",
    "    img = image_array_input.reshape(-1, 1).astype(np.float32)\n",
    "    # 分散を計算\n",
    "    ch_var = np.var(img, axis=0)\n",
    "    # 分散の合計が3になるようにスケーリング\n",
    "    scaling_factor = np.sqrt(1 / sum(ch_var))\n",
    "    # 平均で引いてスケーリング\n",
    "    img = (img - np.mean(img, axis=0)) * scaling_factor\n",
    "\n",
    "    cov = np.cov(img, rowvar=False)\n",
    "    lambd_eigen_value, p_eigen_vector = np.linalg.eig(cov)\n",
    "\n",
    "    while True:\n",
    "        rand = np.random.randn(1) * 0.1\n",
    "        if np.all(rand > PCA_COLOR_RANGE[0]):\n",
    "            if np.all(rand < PCA_COLOR_RANGE[1]):\n",
    "                break\n",
    "\n",
    "    delta = np.dot(p_eigen_vector, rand*lambd_eigen_value)\n",
    "    delta = (delta * 255.0).astype(np.int32)[np.newaxis, np.newaxis, :]\n",
    "\n",
    "    img_out = np.clip(image_array_input + delta, 0, 255).astype(np.uint8)\n",
    "    return img_out\n",
    "\n",
    "\n",
    "\n",
    "\n",
    "def pca_color_augmentation_rgb(image_array_input):\n",
    "    \"\"\"\n",
    "        RGBカラー画像限定\n",
    "        コピぺ：https://qiita.com/koshian2/items/78de8ccd09dd2998ddfc\n",
    "    \"\"\"\n",
    "\n",
    "    img = image_array_input.reshape(-1, 3).astype(np.float32)\n",
    "    # 分散を計算\n",
    "    ch_var = np.var(img, axis=0)\n",
    "    # 分散の合計が3になるようにスケーリング\n",
    "    scaling_factor = np.sqrt(3.0 / sum(ch_var))\n",
    "    # 平均で引いてスケーリング\n",
    "    img = (img - np.mean(img, axis=0)) * scaling_factor\n",
    "\n",
    "    cov = np.cov(img, rowvar=False)\n",
    "    lambd_eigen_value, p_eigen_vector = np.linalg.eig(cov)\n",
    "\n",
    "    while True:\n",
    "        rand = np.random.randn(3) * 0.1\n",
    "        if np.all(rand > PCA_COLOR_RANGE[0]):\n",
    "            if np.all(rand < PCA_COLOR_RANGE[1]):\n",
    "                break\n",
    "\n",
    "    delta = np.dot(p_eigen_vector, rand*lambd_eigen_value)\n",
    "    delta = (delta * 255.0).astype(np.int32)[np.newaxis, np.newaxis, :]\n",
    "\n",
    "    img_out = np.clip(image_array_input + delta, 0, 255).astype(np.uint8)\n",
    "    return img_out\n"
   ]
  },
  {
   "cell_type": "code",
   "execution_count": 49,
   "metadata": {},
   "outputs": [
    {
     "data": {
      "text/plain": [
       "(768, 768, 1)"
      ]
     },
     "execution_count": 49,
     "metadata": {},
     "output_type": "execute_result"
    }
   ],
   "source": [
    "image.shape"
   ]
  },
  {
   "cell_type": "code",
   "execution_count": 45,
   "metadata": {},
   "outputs": [],
   "source": [
    "import numpy as np\n",
    "import matplotlib.pyplot as plt"
   ]
  },
  {
   "cell_type": "code",
   "execution_count": null,
   "metadata": {},
   "outputs": [],
   "source": []
  }
 ],
 "metadata": {
  "kernelspec": {
   "display_name": "Python 3",
   "language": "python",
   "name": "python3"
  },
  "language_info": {
   "codemirror_mode": {
    "name": "ipython",
    "version": 3
   },
   "file_extension": ".py",
   "mimetype": "text/x-python",
   "name": "python",
   "nbconvert_exporter": "python",
   "pygments_lexer": "ipython3",
   "version": "3.6.4"
  }
 },
 "nbformat": 4,
 "nbformat_minor": 2
}
